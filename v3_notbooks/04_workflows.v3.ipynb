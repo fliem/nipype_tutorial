{
 "metadata": {
  "celltoolbar": "Slideshow",
  "kernelspec": {
   "display_name": "Python 2",
   "language": "python",
   "name": "python2"
  },
  "language_info": {
   "codemirror_mode": {
    "name": "ipython",
    "version": 2
   },
   "file_extension": ".py",
   "mimetype": "text/x-python",
   "name": "python",
   "nbconvert_exporter": "python",
   "pygments_lexer": "ipython2",
   "version": "2.7.11"
  },
  "name": ""
 },
 "nbformat": 3,
 "nbformat_minor": 0,
 "worksheets": [
  {
   "cells": [
    {
     "cell_type": "heading",
     "level": 1,
     "metadata": {
      "slideshow": {
       "slide_type": "slide"
      }
     },
     "source": [
      "Workflows"
     ]
    },
    {
     "cell_type": "markdown",
     "metadata": {},
     "source": [
      "Usually, we want to run more complex pipelines.\n",
      "\n",
      "The [workflow object](http://nipy.org/nipype/api/generated/nipype.pipeline.engine.html#workflow\n",
      ")\n",
      ">Controls the setup and execution of a pipeline of processes.\n"
     ]
    },
    {
     "cell_type": "code",
     "collapsed": false,
     "input": [
      "import os\n",
      "\n",
      "home = os.path.expanduser('~')\n",
      "data_path = os.path.join(home, 'nipype_data')\n",
      "wd_path = os.path.join(data_path, '04_workflows')\n",
      "if not os.path.exists(wd_path):\n",
      "    os.mkdir(wd_path)\n",
      "os.chdir(wd_path)\n",
      "print(wd_path)"
     ],
     "language": "python",
     "metadata": {
      "slideshow": {
       "slide_type": "subslide"
      }
     },
     "outputs": [
      {
       "output_type": "stream",
       "stream": "stdout",
       "text": [
        "/Users/franzliem/nipype_data/04_workflows\n"
       ]
      }
     ],
     "prompt_number": 1
    },
    {
     "cell_type": "code",
     "collapsed": false,
     "input": [
      "rs_data = os.path.join(data_path, 'in_data/s01', 'rs_10TRs.nii.gz')\n",
      "print(rs_data)"
     ],
     "language": "python",
     "metadata": {},
     "outputs": [
      {
       "output_type": "stream",
       "stream": "stdout",
       "text": [
        "/Users/franzliem/nipype_data/in_data/s01/rs_10TRs.nii.gz\n"
       ]
      }
     ],
     "prompt_number": 2
    },
    {
     "cell_type": "heading",
     "level": 1,
     "metadata": {
      "slideshow": {
       "slide_type": "slide"
      }
     },
     "source": [
      "A very simple workflow"
     ]
    },
    {
     "cell_type": "markdown",
     "metadata": {
      "slideshow": {
       "slide_type": "-"
      }
     },
     "source": [
      "Let's start with basic workflow definition"
     ]
    },
    {
     "cell_type": "code",
     "collapsed": false,
     "input": [
      "from nipype.pipeline.engine import Node, Workflow\n",
      "from nipype.interfaces import fsl\n",
      "\n",
      "workflow_path = os.path.join(wd_path, 'wf_1')\n",
      "wf = Workflow(name='my_first_wf')\n",
      "wf.base_dir = workflow_path\n",
      "wf.config['execution']['crashdump_dir'] = os.path.join(workflow_path, 'crash')\n",
      "wf.config['execution']['remove_unnecessary_outputs'] = False"
     ],
     "language": "python",
     "metadata": {},
     "outputs": [],
     "prompt_number": 3
    },
    {
     "cell_type": "markdown",
     "metadata": {
      "slideshow": {
       "slide_type": "subslide"
      }
     },
     "source": [
      "Let's define the first node of our wf"
     ]
    },
    {
     "cell_type": "code",
     "collapsed": false,
     "input": [
      "moco = Node(fsl.MCFLIRT(), 'moco')\n",
      "moco.inputs.in_file = rs_data"
     ],
     "language": "python",
     "metadata": {},
     "outputs": [],
     "prompt_number": 4
    },
    {
     "cell_type": "markdown",
     "metadata": {
      "slideshow": {
       "slide_type": "subslide"
      }
     },
     "source": [
      "If we have only one node in our wf we can add the node to the workflow with __wf.add_nodes()__ and run the entire workflow with __wf.run()__"
     ]
    },
    {
     "cell_type": "code",
     "collapsed": false,
     "input": [
      "wf.add_nodes([moco])\n",
      "wf.run()"
     ],
     "language": "python",
     "metadata": {},
     "outputs": [
      {
       "output_type": "stream",
       "stream": "stderr",
       "text": [
        "/Users/franzliem/anaconda/lib/python2.7/site-packages/IPython/kernel/__init__.py:13: ShimWarning: The `IPython.kernel` package has been deprecated. You should import from ipykernel or jupyter_client instead.\n",
        "  \"You should import from ipykernel or jupyter_client instead.\", ShimWarning)\n",
        "/Users/franzliem/anaconda/lib/python2.7/site-packages/IPython/parallel.py:13: ShimWarning: The `IPython.parallel` package has been deprecated. You should import from ipyparallel instead.\n",
        "  \"You should import from ipyparallel instead.\", ShimWarning)\n",
        "INFO:workflow:['check', 'execution', 'logging']\n",
        "INFO:workflow:Running serially.\n",
        "INFO:workflow:Executing node moco in dir: /Users/franzliem/nipype_data/04_workflows/wf_1/my_first_wf/moco\n",
        "INFO:workflow:Running: mcflirt -in /Users/franzliem/nipype_data/in_data/s01/rs_10TRs.nii.gz -out /Users/franzliem/nipype_data/04_workflows/wf_1/my_first_wf/moco/rs_10TRs_mcf.nii.gz\n"
       ]
      },
      {
       "metadata": {},
       "output_type": "pyout",
       "prompt_number": 5,
       "text": [
        "<networkx.classes.digraph.DiGraph at 0x10ad77f50>"
       ]
      }
     ],
     "prompt_number": 5
    },
    {
     "cell_type": "heading",
     "level": 2,
     "metadata": {
      "slideshow": {
       "slide_type": "subslide"
      }
     },
     "source": [
      "Now inspect the created directories"
     ]
    },
    {
     "cell_type": "heading",
     "level": 1,
     "metadata": {
      "slideshow": {
       "slide_type": "slide"
      }
     },
     "source": [
      "A more complex workflow"
     ]
    },
    {
     "cell_type": "markdown",
     "metadata": {},
     "source": [
      "Let's start with wf definition"
     ]
    },
    {
     "cell_type": "code",
     "collapsed": true,
     "input": [
      "from nipype.pipeline.engine import Node, Workflow\n",
      "from nipype.interfaces import fsl\n",
      "\n",
      "workflow_path = os.path.join(wd_path, 'wf_2')\n",
      "wf = Workflow(name='my_second_wf')\n",
      "wf.base_dir = workflow_path\n",
      "wf.config['execution']['crashdump_dir'] = os.path.join(workflow_path, 'crash')\n",
      "wf.config['execution']['remove_unnecessary_outputs'] = False"
     ],
     "language": "python",
     "metadata": {},
     "outputs": [],
     "prompt_number": 6
    },
    {
     "cell_type": "markdown",
     "metadata": {
      "slideshow": {
       "slide_type": "subslide"
      }
     },
     "source": [
      "Now we define 2 nodes"
     ]
    },
    {
     "cell_type": "code",
     "collapsed": true,
     "input": [
      "moco = Node(fsl.MCFLIRT(), 'moco')\n",
      "moco.inputs.in_file = rs_data\n",
      "\n",
      "smoothing = Node(fsl.IsotropicSmooth(), 'smoothing')\n",
      "smoothing.inputs.fwhm = 6"
     ],
     "language": "python",
     "metadata": {},
     "outputs": [],
     "prompt_number": 7
    },
    {
     "cell_type": "markdown",
     "metadata": {},
     "source": [
      "We now need to add nodes to our workflow and connect node inputs and outputs.\n",
      "\n",
      "Instead of using `add_nodes()` we now use __wf.connect()__"
     ]
    },
    {
     "cell_type": "code",
     "collapsed": true,
     "input": [
      "wf.connect(moco, 'out_file', smoothing, 'in_file')"
     ],
     "language": "python",
     "metadata": {},
     "outputs": [],
     "prompt_number": 8
    },
    {
     "cell_type": "markdown",
     "metadata": {
      "slideshow": {
       "slide_type": "subslide"
      }
     },
     "source": [
      "and run the entire workflow"
     ]
    },
    {
     "cell_type": "code",
     "collapsed": false,
     "input": [
      "wf.run()"
     ],
     "language": "python",
     "metadata": {},
     "outputs": [
      {
       "output_type": "stream",
       "stream": "stderr",
       "text": [
        "INFO:workflow:['check', 'execution', 'logging']\n",
        "INFO:workflow:Running serially.\n",
        "INFO:workflow:Executing node moco in dir: /Users/franzliem/nipype_data/04_workflows/wf_2/my_second_wf/moco\n",
        "INFO:workflow:Running: mcflirt -in /Users/franzliem/nipype_data/in_data/s01/rs_10TRs.nii.gz -out /Users/franzliem/nipype_data/04_workflows/wf_2/my_second_wf/moco/rs_10TRs_mcf.nii.gz\n",
        "INFO:workflow:Executing node smoothing in dir: /Users/franzliem/nipype_data/04_workflows/wf_2/my_second_wf/smoothing\n",
        "INFO:workflow:Running: fslmaths /Users/franzliem/nipype_data/04_workflows/wf_2/my_second_wf/moco/rs_10TRs_mcf.nii.gz -s 2.54797 /Users/franzliem/nipype_data/04_workflows/wf_2/my_second_wf/smoothing/rs_10TRs_mcf_smooth.nii.gz\n"
       ]
      },
      {
       "metadata": {},
       "output_type": "pyout",
       "prompt_number": 9,
       "text": [
        "<networkx.classes.digraph.DiGraph at 0x103e97210>"
       ]
      }
     ],
     "prompt_number": 9
    },
    {
     "cell_type": "heading",
     "level": 2,
     "metadata": {
      "slideshow": {
       "slide_type": "subslide"
      }
     },
     "source": [
      "Now inspect the created directories"
     ]
    },
    {
     "cell_type": "heading",
     "level": 1,
     "metadata": {
      "slideshow": {
       "slide_type": "slide"
      }
     },
     "source": [
      "Workflow graphs"
     ]
    },
    {
     "cell_type": "code",
     "collapsed": false,
     "input": [
      "wf.write_graph(dotfilename='graph', graph2use='orig', format='svg')\n",
      "    "
     ],
     "language": "python",
     "metadata": {},
     "outputs": [
      {
       "output_type": "stream",
       "stream": "stderr",
       "text": [
        "INFO:workflow:Creating detailed dot file: /Users/franzliem/nipype_data/04_workflows/wf_2/my_second_wf/graph_detailed.dot\n",
        "INFO:workflow:Creating dot file: /Users/franzliem/nipype_data/04_workflows/wf_2/my_second_wf/graph.dot\n"
       ]
      }
     ],
     "prompt_number": 10
    },
    {
     "cell_type": "code",
     "collapsed": false,
     "input": [
      "from IPython.display import SVG, display\n",
      "display(SVG(filename='wf_2/my_second_wf/graph.dot.svg'))"
     ],
     "language": "python",
     "metadata": {
      "slideshow": {
       "slide_type": "subslide"
      }
     },
     "outputs": [
      {
       "metadata": {},
       "output_type": "display_data",
       "svg": [
        "<svg height=\"116pt\" viewBox=\"0.00 0.00 148.62 116.00\" width=\"149pt\" xmlns=\"http://www.w3.org/2000/svg\" xmlns:xlink=\"http://www.w3.org/1999/xlink\">\n",
        "<g class=\"graph\" id=\"graph0\" transform=\"scale(1 1) rotate(0) translate(4 112)\">\n",
        "<title>G</title>\n",
        "<polygon fill=\"white\" points=\"-4,4 -4,-112 144.624,-112 144.624,4 -4,4\" stroke=\"none\"/>\n",
        "<!-- moco (fsl) -->\n",
        "<g class=\"node\" id=\"node1\"><title>moco (fsl)</title>\n",
        "<ellipse cx=\"70.3118\" cy=\"-90\" fill=\"none\" rx=\"50.9804\" ry=\"18\" stroke=\"black\"/>\n",
        "<text font-family=\"Times,serif\" font-size=\"14.00\" text-anchor=\"middle\" x=\"70.3118\" y=\"-85.8\">moco (fsl)</text>\n",
        "</g>\n",
        "<!-- smoothing (fsl) -->\n",
        "<g class=\"node\" id=\"node2\"><title>smoothing (fsl)</title>\n",
        "<ellipse cx=\"70.3118\" cy=\"-18\" fill=\"none\" rx=\"70.1241\" ry=\"18\" stroke=\"black\"/>\n",
        "<text font-family=\"Times,serif\" font-size=\"14.00\" text-anchor=\"middle\" x=\"70.3118\" y=\"-13.8\">smoothing (fsl)</text>\n",
        "</g>\n",
        "<!-- moco (fsl)&#45;&gt;smoothing (fsl) -->\n",
        "<g class=\"edge\" id=\"edge1\"><title>moco (fsl)-&gt;smoothing (fsl)</title>\n",
        "<path d=\"M70.3118,-71.6966C70.3118,-63.9827 70.3118,-54.7125 70.3118,-46.1124\" fill=\"none\" stroke=\"black\"/>\n",
        "<polygon fill=\"black\" points=\"73.8119,-46.1043 70.3118,-36.1043 66.8119,-46.1044 73.8119,-46.1043\" stroke=\"black\"/>\n",
        "</g>\n",
        "</g>\n",
        "</svg>"
       ],
       "text": [
        "<IPython.core.display.SVG object>"
       ]
      }
     ],
     "prompt_number": 11
    },
    {
     "cell_type": "code",
     "collapsed": false,
     "input": [
      "display(SVG(filename='wf_2/my_second_wf/graph_detailed.dot.svg'))"
     ],
     "language": "python",
     "metadata": {
      "slideshow": {
       "slide_type": "subslide"
      }
     },
     "outputs": [
      {
       "metadata": {},
       "output_type": "display_data",
       "svg": [
        "<svg height=\"195pt\" viewBox=\"0.00 0.00 317.92 194.80\" width=\"318pt\" xmlns=\"http://www.w3.org/2000/svg\" xmlns:xlink=\"http://www.w3.org/1999/xlink\">\n",
        "<g class=\"graph\" id=\"graph0\" transform=\"scale(1 1) rotate(0) translate(4 190.8)\">\n",
        "<title>structs</title>\n",
        "<polygon fill=\"white\" points=\"-4,4 -4,-190.8 313.924,-190.8 313.924,4 -4,4\" stroke=\"none\"/>\n",
        "<!-- my_second_wfmoco -->\n",
        "<g class=\"node\" id=\"node1\"><title>my_second_wfmoco</title>\n",
        "<polygon fill=\"none\" points=\"0,-111.9 0,-186.3 137.419,-186.3 137.419,-111.9 0,-111.9\" stroke=\"black\"/>\n",
        "<text font-family=\"Times,serif\" font-size=\"14.00\" text-anchor=\"middle\" x=\"15.3836\" y=\"-145.2\">IN</text>\n",
        "<polyline fill=\"none\" points=\"30.7672,-111.9 30.7672,-186.3 \" stroke=\"black\"/>\n",
        "<text font-family=\"Times,serif\" font-size=\"14.00\" text-anchor=\"middle\" x=\"54.3198\" y=\"-169.7\">moco</text>\n",
        "<polyline fill=\"none\" points=\"30.7672,-161.5 77.8724,-161.5 \" stroke=\"black\"/>\n",
        "<text font-family=\"Times,serif\" font-size=\"14.00\" text-anchor=\"middle\" x=\"54.3198\" y=\"-144.9\">fsl</text>\n",
        "<polyline fill=\"none\" points=\"30.7672,-136.7 77.8724,-136.7 \" stroke=\"black\"/>\n",
        "<text font-family=\"Times,serif\" font-size=\"14.00\" text-anchor=\"middle\" x=\"54.3198\" y=\"-120.1\"> </text>\n",
        "<polyline fill=\"none\" points=\"77.8724,-111.9 77.8724,-186.3 \" stroke=\"black\"/>\n",
        "<text font-family=\"Times,serif\" font-size=\"14.00\" text-anchor=\"middle\" x=\"107.646\" y=\"-163.7\">OUT</text>\n",
        "<polyline fill=\"none\" points=\"77.8724,-149.5 137.419,-149.5 \" stroke=\"black\"/>\n",
        "<text font-family=\"Times,serif\" font-size=\"14.00\" text-anchor=\"middle\" x=\"107.646\" y=\"-126.9\">out_file</text>\n",
        "</g>\n",
        "<!-- my_second_wfsmoothing -->\n",
        "<g class=\"node\" id=\"node2\"><title>my_second_wfsmoothing</title>\n",
        "<polygon fill=\"none\" points=\"137.495,-0.5 137.495,-74.9 309.924,-74.9 309.924,-0.5 137.495,-0.5\" stroke=\"black\"/>\n",
        "<text font-family=\"Times,serif\" font-size=\"14.00\" text-anchor=\"middle\" x=\"163.769\" y=\"-52.3\">IN</text>\n",
        "<polyline fill=\"none\" points=\"137.495,-38.1 190.042,-38.1 \" stroke=\"black\"/>\n",
        "<text font-family=\"Times,serif\" font-size=\"14.00\" text-anchor=\"middle\" x=\"163.769\" y=\"-15.5\">in_file</text>\n",
        "<polyline fill=\"none\" points=\"190.042,-0.5 190.042,-74.9 \" stroke=\"black\"/>\n",
        "<text font-family=\"Times,serif\" font-size=\"14.00\" text-anchor=\"middle\" x=\"227.6\" y=\"-58.3\">smoothing</text>\n",
        "<polyline fill=\"none\" points=\"190.042,-50.1 265.159,-50.1 \" stroke=\"black\"/>\n",
        "<text font-family=\"Times,serif\" font-size=\"14.00\" text-anchor=\"middle\" x=\"227.6\" y=\"-33.5\">fsl</text>\n",
        "<polyline fill=\"none\" points=\"190.042,-25.3 265.159,-25.3 \" stroke=\"black\"/>\n",
        "<text font-family=\"Times,serif\" font-size=\"14.00\" text-anchor=\"middle\" x=\"227.6\" y=\"-8.7\"> </text>\n",
        "<polyline fill=\"none\" points=\"265.159,-0.5 265.159,-74.9 \" stroke=\"black\"/>\n",
        "<text font-family=\"Times,serif\" font-size=\"14.00\" text-anchor=\"middle\" x=\"287.541\" y=\"-33.8\">OUT</text>\n",
        "</g>\n",
        "<!-- my_second_wfmoco&#45;&gt;my_second_wfsmoothing -->\n",
        "<g class=\"edge\" id=\"edge1\"><title>my_second_wfmoco:outoutfile:e-&gt;my_second_wfsmoothing:ininfile:w</title>\n",
        "<path d=\"M138.71,-131.1C183.78,-131.1 104.131,-38.818 126.79,-22.2361\" fill=\"none\" stroke=\"black\"/>\n",
        "<polygon fill=\"black\" points=\"127.888,-25.568 136.71,-19.7 126.154,-18.7861 127.888,-25.568\" stroke=\"black\"/>\n",
        "</g>\n",
        "</g>\n",
        "</svg>"
       ],
       "text": [
        "<IPython.core.display.SVG object>"
       ]
      }
     ],
     "prompt_number": 12
    },
    {
     "cell_type": "heading",
     "level": 1,
     "metadata": {
      "slideshow": {
       "slide_type": "slide"
      }
     },
     "source": [
      "Run workflows"
     ]
    },
    {
     "cell_type": "markdown",
     "metadata": {},
     "source": [
      "* `wf.run()` runs the workflow on your machine with in one process (core) (equal to `wf.run(plugin='Linear')`)\n",
      "\n",
      "\n",
      "* `wf.run(plugin='MultiProc', plugin_args={'n_procs' : 2})` runs it on your machine using 2 process in parallel\n",
      "\n",
      "\n",
      "* `wf.run(plugin='CondorDAGMan')` submits jobs to condor\n",
      "\n",
      "\n",
      "see http://www.mit.edu/~satra/nipype-nightly/users/plugins.html"
     ]
    }
   ],
   "metadata": {}
  }
 ]
}