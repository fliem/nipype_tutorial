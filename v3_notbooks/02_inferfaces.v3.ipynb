{
 "metadata": {
  "celltoolbar": "Slideshow",
  "kernelspec": {
   "display_name": "Python 2",
   "language": "python",
   "name": "python2"
  },
  "language_info": {
   "codemirror_mode": {
    "name": "ipython",
    "version": 2
   },
   "file_extension": ".py",
   "mimetype": "text/x-python",
   "name": "python",
   "nbconvert_exporter": "python",
   "pygments_lexer": "ipython2",
   "version": "2.7.11"
  },
  "name": ""
 },
 "nbformat": 3,
 "nbformat_minor": 0,
 "worksheets": [
  {
   "cells": [
    {
     "cell_type": "heading",
     "level": 1,
     "metadata": {
      "slideshow": {
       "slide_type": "slide"
      }
     },
     "source": [
      "Interfaces"
     ]
    },
    {
     "cell_type": "markdown",
     "metadata": {
      "slideshow": {
       "slide_type": "-"
      }
     },
     "source": [
      "Interfaces provide the link between nipype and the externfal software (e.g., fsl; see http://nipy.org/nipype/users/interface_tutorial.html)\n",
      "\n",
      "\n",
      "Nipype's interface modules are located at __nipype.interfaces__. "
     ]
    },
    {
     "cell_type": "markdown",
     "metadata": {
      "slideshow": {
       "slide_type": "slide"
      }
     },
     "source": [
      "Let's create a directory to work in"
     ]
    },
    {
     "cell_type": "code",
     "collapsed": false,
     "input": [
      "import os\n",
      "\n",
      "home = os.path.expanduser('~')\n",
      "data_path = os.path.join(home, 'nipype_data')\n",
      "wd_path = os.path.join(data_path, '02_inferface')\n",
      "if not os.path.exists(wd_path):\n",
      "    os.mkdir(wd_path)\n",
      "os.chdir(wd_path)\n",
      "print(wd_path)"
     ],
     "language": "python",
     "metadata": {},
     "outputs": [
      {
       "output_type": "stream",
       "stream": "stdout",
       "text": [
        "/Users/franzliem/nipype_data/02_inferface\n"
       ]
      }
     ],
     "prompt_number": 1
    },
    {
     "cell_type": "code",
     "collapsed": false,
     "input": [
      "rs_data = os.path.join(data_path, 'in_data/s01', 'rs_10TRs.nii.gz')\n",
      "print(rs_data)"
     ],
     "language": "python",
     "metadata": {},
     "outputs": [
      {
       "output_type": "stream",
       "stream": "stdout",
       "text": [
        "/Users/franzliem/nipype_data/in_data/s01/rs_10TRs.nii.gz\n"
       ]
      }
     ],
     "prompt_number": 2
    },
    {
     "cell_type": "code",
     "collapsed": false,
     "input": [
      "from nipype.interfaces import fsl\n",
      "\n",
      "moco = fsl.MCFLIRT()\n",
      "moco.inputs.in_file = rs_data"
     ],
     "language": "python",
     "metadata": {
      "slideshow": {
       "slide_type": "slide"
      }
     },
     "outputs": [],
     "prompt_number": 3
    },
    {
     "cell_type": "markdown",
     "metadata": {},
     "source": [
      "Now inspect moco with tab completion"
     ]
    },
    {
     "cell_type": "code",
     "collapsed": false,
     "input": [
      "moco"
     ],
     "language": "python",
     "metadata": {},
     "outputs": [
      {
       "metadata": {},
       "output_type": "pyout",
       "prompt_number": 4,
       "text": [
        "<nipype.interfaces.fsl.preprocess.MCFLIRT at 0x103e962d0>"
       ]
      }
     ],
     "prompt_number": 4
    },
    {
     "cell_type": "markdown",
     "metadata": {
      "slideshow": {
       "slide_type": "slide"
      }
     },
     "source": [
      "... and run the interface"
     ]
    },
    {
     "cell_type": "code",
     "collapsed": false,
     "input": [
      "moco.run()"
     ],
     "language": "python",
     "metadata": {},
     "outputs": [
      {
       "metadata": {},
       "output_type": "pyout",
       "prompt_number": 5,
       "text": [
        "<nipype.interfaces.base.InterfaceResult at 0x10072a890>"
       ]
      }
     ],
     "prompt_number": 5
    },
    {
     "cell_type": "markdown",
     "metadata": {},
     "source": [
      "We now see a new file in the current directory, the motion corrected nii"
     ]
    },
    {
     "cell_type": "code",
     "collapsed": false,
     "input": [
      "ls"
     ],
     "language": "python",
     "metadata": {},
     "outputs": [
      {
       "output_type": "stream",
       "stream": "stdout",
       "text": [
        "rs_10TRs_mcf.nii.gz\r\n"
       ]
      }
     ],
     "prompt_number": 6
    },
    {
     "cell_type": "markdown",
     "metadata": {
      "slideshow": {
       "slide_type": "slide"
      }
     },
     "source": [
      "If we take a look at [nipype's mclfirt doc](http://nipy.org/nipype/interfaces/generated/nipype.interfaces.fsl.preprocess.html#mcflirt), we can see this interface's options.\n",
      "\n",
      "We now can specify an out file name via __moco.inputs.OPTION__"
     ]
    },
    {
     "cell_type": "code",
     "collapsed": false,
     "input": [
      "moco = fsl.MCFLIRT()\n",
      "moco.inputs.in_file = rs_data\n",
      "moco.inputs.out_file = 'moco.nii.gz'\n",
      "moco.run()"
     ],
     "language": "python",
     "metadata": {},
     "outputs": [
      {
       "metadata": {},
       "output_type": "pyout",
       "prompt_number": 7,
       "text": [
        "<nipype.interfaces.base.InterfaceResult at 0x10ad52090>"
       ]
      }
     ],
     "prompt_number": 7
    },
    {
     "cell_type": "code",
     "collapsed": false,
     "input": [
      "ls"
     ],
     "language": "python",
     "metadata": {},
     "outputs": [
      {
       "output_type": "stream",
       "stream": "stdout",
       "text": [
        "moco.nii.gz          rs_10TRs_mcf.nii.gz\r\n"
       ]
      }
     ],
     "prompt_number": 8
    },
    {
     "cell_type": "heading",
     "level": 1,
     "metadata": {
      "slideshow": {
       "slide_type": "slide"
      }
     },
     "source": [
      "Exercise"
     ]
    },
    {
     "cell_type": "markdown",
     "metadata": {},
     "source": [
      "Now try to run moco and save the transformation parameters"
     ]
    },
    {
     "cell_type": "markdown",
     "metadata": {
      "slideshow": {
       "slide_type": "slide"
      }
     },
     "source": [
      "Before we continue, let's take a look at moco's type"
     ]
    },
    {
     "cell_type": "code",
     "collapsed": false,
     "input": [
      "type(moco)"
     ],
     "language": "python",
     "metadata": {},
     "outputs": [
      {
       "metadata": {},
       "output_type": "pyout",
       "prompt_number": 9,
       "text": [
        "nipype.interfaces.fsl.preprocess.MCFLIRT"
       ]
      }
     ],
     "prompt_number": 9
    }
   ],
   "metadata": {}
  }
 ]
}