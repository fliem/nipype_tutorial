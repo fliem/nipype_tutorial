{
 "metadata": {
  "celltoolbar": "Slideshow",
  "kernelspec": {
   "display_name": "Python 2",
   "language": "python",
   "name": "python2"
  },
  "language_info": {
   "codemirror_mode": {
    "name": "ipython",
    "version": 2
   },
   "file_extension": ".py",
   "mimetype": "text/x-python",
   "name": "python",
   "nbconvert_exporter": "python",
   "pygments_lexer": "ipython2",
   "version": "2.7.11"
  },
  "name": ""
 },
 "nbformat": 3,
 "nbformat_minor": 0,
 "worksheets": [
  {
   "cells": [
    {
     "cell_type": "heading",
     "level": 1,
     "metadata": {
      "slideshow": {
       "slide_type": "slide"
      }
     },
     "source": [
      "Nodes"
     ]
    },
    {
     "cell_type": "markdown",
     "metadata": {},
     "source": [
      "From http://nipy.org/nipype/api/generated/nipype.pipeline.engine.html#node\n",
      "\n",
      "Nodes wrap interface objects for use in pipeline\n",
      "\n",
      ">A Node creates a sandbox-like directory for executing the underlying interface. It will copy or link inputs into this directory to ensure that input data are not overwritten. A hash of the input state is used to determine if the Node inputs have changed and whether the node needs to be re-executed."
     ]
    },
    {
     "cell_type": "code",
     "collapsed": false,
     "input": [
      "import os\n",
      "\n",
      "home = os.path.expanduser('~')\n",
      "data_path = os.path.join(home, 'nipype_data')\n",
      "wd_path = os.path.join(data_path, '03_nodes')\n",
      "if not os.path.exists(wd_path):\n",
      "    os.mkdir(wd_path)\n",
      "os.chdir(wd_path)\n",
      "print(wd_path)"
     ],
     "language": "python",
     "metadata": {
      "slideshow": {
       "slide_type": "slide"
      }
     },
     "outputs": [
      {
       "output_type": "stream",
       "stream": "stdout",
       "text": [
        "/Users/franzliem/nipype_data/03_nodes\n"
       ]
      }
     ],
     "prompt_number": 1
    },
    {
     "cell_type": "code",
     "collapsed": false,
     "input": [
      "rs_data = os.path.join(data_path, 'in_data/s01', 'rs_10TRs.nii.gz')\n",
      "print(rs_data)"
     ],
     "language": "python",
     "metadata": {},
     "outputs": [
      {
       "output_type": "stream",
       "stream": "stdout",
       "text": [
        "/Users/franzliem/nipype_data/in_data/s01/rs_10TRs.nii.gz\n"
       ]
      }
     ],
     "prompt_number": 2
    },
    {
     "cell_type": "code",
     "collapsed": false,
     "input": [
      "from nipype.pipeline.engine import Node\n",
      "from nipype.interfaces import fsl\n",
      "\n",
      "\n",
      "moco = Node(fsl.MCFLIRT(), 'moco')\n",
      "moco.inputs.in_file = rs_data\n",
      "moco.base_dir = wd_path\n",
      "moco.run()"
     ],
     "language": "python",
     "metadata": {
      "slideshow": {
       "slide_type": "slide"
      }
     },
     "outputs": [
      {
       "output_type": "stream",
       "stream": "stderr",
       "text": [
        "INFO:workflow:Executing node moco in dir: /Users/franzliem/nipype_data/03_nodes/moco\n",
        "INFO:workflow:Running: mcflirt -in /Users/franzliem/nipype_data/in_data/s01/rs_10TRs.nii.gz -out /Users/franzliem/nipype_data/03_nodes/moco/rs_10TRs_mcf.nii.gz\n"
       ]
      },
      {
       "metadata": {},
       "output_type": "pyout",
       "prompt_number": 3,
       "text": [
        "<nipype.interfaces.base.InterfaceResult at 0x10062a890>"
       ]
      }
     ],
     "prompt_number": 3
    },
    {
     "cell_type": "markdown",
     "metadata": {},
     "source": [
      "Note that        \n",
      "   \n",
      "```moco = Node(fsl.MCFLIRT(), 'moco')```\n",
      "\n",
      "is equivalent to \n",
      "\n",
      "```moco = Node(interface=fsl.MCFLIRT(), name='moco')```\n",
      "\n"
     ]
    },
    {
     "cell_type": "code",
     "collapsed": false,
     "input": [
      "ls moco"
     ],
     "language": "python",
     "metadata": {
      "slideshow": {
       "slide_type": "slide"
      }
     },
     "outputs": [
      {
       "output_type": "stream",
       "stream": "stdout",
       "text": [
        "_0xa75c1debcdba3ca0860d9c4452b6b10c.json\r\n",
        "_inputs.pklz\r\n",
        "_node.pklz\r\n",
        "\u001b[1m\u001b[34m_report\u001b[m\u001b[m/\r\n",
        "command.txt\r\n",
        "result_moco.pklz\r\n",
        "rs_10TRs_mcf.nii.gz\r\n"
       ]
      }
     ],
     "prompt_number": 4
    },
    {
     "cell_type": "markdown",
     "metadata": {},
     "source": [
      "Inspect the files in moco. Take a look at command.txt and _report/report.rts"
     ]
    },
    {
     "cell_type": "heading",
     "level": 2,
     "metadata": {
      "collapsed": true,
      "slideshow": {
       "slide_type": "subslide"
      }
     },
     "source": [
      "Note that if you re-run a node, it only will re-calculate the results, if the input has changed! "
     ]
    }
   ],
   "metadata": {}
  }
 ]
}