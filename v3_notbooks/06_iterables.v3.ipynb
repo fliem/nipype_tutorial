{
 "metadata": {
  "celltoolbar": "Slideshow",
  "kernelspec": {
   "display_name": "Python 2",
   "language": "python",
   "name": "python2"
  },
  "language_info": {
   "codemirror_mode": {
    "name": "ipython",
    "version": 2
   },
   "file_extension": ".py",
   "mimetype": "text/x-python",
   "name": "python",
   "nbconvert_exporter": "python",
   "pygments_lexer": "ipython2",
   "version": "2.7.11"
  },
  "name": ""
 },
 "nbformat": 3,
 "nbformat_minor": 0,
 "worksheets": [
  {
   "cells": [
    {
     "cell_type": "heading",
     "level": 1,
     "metadata": {
      "slideshow": {
       "slide_type": "slide"
      }
     },
     "source": [
      "Iterables"
     ]
    },
    {
     "cell_type": "markdown",
     "metadata": {},
     "source": [
      "With our current setup we have graphs like this\n",
      "\n",
      "![](http://nipy.org/nipype/_images/graphviz-b65596b443fdc105a6508acf176afcc6261aa65a.png)"
     ]
    },
    {
     "cell_type": "markdown",
     "metadata": {
      "slideshow": {
       "slide_type": "subslide"
      }
     },
     "source": [
      "Let's assume node B is smoothing, and we want to run the analysis with three different smoothing kernels. The resulting graph \n",
      "would look like this:\n",
      "![](http://nipy.org/nipype/_images/graphviz-675dc232294d6cecf3284efeace35923746f8ac8.png)\n"
     ]
    },
    {
     "cell_type": "markdown",
     "metadata": {
      "slideshow": {
       "slide_type": "subslide"
      }
     },
     "source": [
      "This can be performed with [iterables](http://nipy.org/nipype/users/mapnode_and_iterables.html#iterables)"
     ]
    },
    {
     "cell_type": "code",
     "collapsed": false,
     "input": [
      "import os\n",
      "\n",
      "home = os.path.expanduser('~')\n",
      "data_path = os.path.join(home, 'nipype_data')\n",
      "wd_path = os.path.join(data_path, '06_iterables')\n",
      "if not os.path.exists(wd_path):\n",
      "    os.mkdir(wd_path)\n",
      "os.chdir(wd_path)\n",
      "print(wd_path)"
     ],
     "language": "python",
     "metadata": {
      "slideshow": {
       "slide_type": "slide"
      }
     },
     "outputs": [
      {
       "output_type": "stream",
       "stream": "stdout",
       "text": [
        "/Users/franzliem/nipype_data/06_iterables\n"
       ]
      }
     ],
     "prompt_number": 1
    },
    {
     "cell_type": "heading",
     "level": 1,
     "metadata": {
      "slideshow": {
       "slide_type": "slide"
      }
     },
     "source": [
      "Iterate over multiple smoothing fwhm"
     ]
    },
    {
     "cell_type": "code",
     "collapsed": false,
     "input": [
      "from nipype.pipeline.engine import Node, Workflow\n",
      "from nipype.interfaces import fsl\n",
      "from nipype.interfaces.io import DataSink, SelectFiles\n",
      "\n",
      "workflow_path = os.path.join(wd_path, 'wf')\n",
      "wf = Workflow(name='smoothing_iterables_wf')\n",
      "wf.base_dir = workflow_path\n",
      "wf.config['execution']['crashdump_dir'] = os.path.join(workflow_path, 'crash')\n",
      "wf.config['execution']['remove_unnecessary_outputs'] = False"
     ],
     "language": "python",
     "metadata": {
      "slideshow": {
       "slide_type": "-"
      }
     },
     "outputs": [],
     "prompt_number": 2
    },
    {
     "cell_type": "code",
     "collapsed": false,
     "input": [
      "file_template = {'rs': 'in_data/s01/rs_10TRs.nii.gz'}\n",
      "selectfiles = Node(SelectFiles(file_template, base_directory=data_path),\n",
      "                   name=\"selectfiles\")"
     ],
     "language": "python",
     "metadata": {},
     "outputs": [],
     "prompt_number": 3
    },
    {
     "cell_type": "code",
     "collapsed": false,
     "input": [
      "moco = Node(fsl.MCFLIRT(), 'moco')\n",
      "\n",
      "wf.connect(selectfiles, 'rs', moco, 'in_file')"
     ],
     "language": "python",
     "metadata": {},
     "outputs": [],
     "prompt_number": 4
    },
    {
     "cell_type": "markdown",
     "metadata": {
      "slideshow": {
       "slide_type": "subslide"
      }
     },
     "source": [
      "Note the different definition of fwhm"
     ]
    },
    {
     "cell_type": "code",
     "collapsed": false,
     "input": [
      "smoothing = Node(fsl.IsotropicSmooth(), 'smoothing')\n",
      "#smoothing.inputs.fwhm = 6\n",
      "smoothing.iterables = ('fwhm', [4, 8, 12])\n",
      "wf.connect(moco, 'out_file', smoothing, 'in_file')"
     ],
     "language": "python",
     "metadata": {
      "slideshow": {
       "slide_type": "-"
      }
     },
     "outputs": [],
     "prompt_number": 5
    },
    {
     "cell_type": "code",
     "collapsed": true,
     "input": [
      "ds_dir = os.path.join(wd_path, 'output_smoothing')\n",
      "ds = Node(DataSink(), name='ds')\n",
      "ds.inputs.base_directory = ds_dir"
     ],
     "language": "python",
     "metadata": {
      "slideshow": {
       "slide_type": "subslide"
      }
     },
     "outputs": [],
     "prompt_number": 6
    },
    {
     "cell_type": "code",
     "collapsed": false,
     "input": [
      "wf.connect(smoothing, 'out_file', ds, 'smoothed_data')"
     ],
     "language": "python",
     "metadata": {},
     "outputs": [],
     "prompt_number": 7
    },
    {
     "cell_type": "code",
     "collapsed": false,
     "input": [
      "wf.run()"
     ],
     "language": "python",
     "metadata": {},
     "outputs": [
      {
       "output_type": "stream",
       "stream": "stderr",
       "text": [
        "/Users/franzliem/anaconda/lib/python2.7/site-packages/IPython/kernel/__init__.py:13: ShimWarning: The `IPython.kernel` package has been deprecated. You should import from ipykernel or jupyter_client instead.\n",
        "  \"You should import from ipykernel or jupyter_client instead.\", ShimWarning)\n",
        "/Users/franzliem/anaconda/lib/python2.7/site-packages/IPython/parallel.py:13: ShimWarning: The `IPython.parallel` package has been deprecated. You should import from ipyparallel instead.\n",
        "  \"You should import from ipyparallel instead.\", ShimWarning)\n",
        "INFO:workflow:['check', 'execution', 'logging']\n",
        "INFO:workflow:Running serially.\n",
        "INFO:workflow:Executing node selectfiles in dir: /Users/franzliem/nipype_data/06_iterables/wf/smoothing_iterables_wf/selectfiles\n",
        "INFO:workflow:Executing node moco in dir: /Users/franzliem/nipype_data/06_iterables/wf/smoothing_iterables_wf/moco\n",
        "INFO:workflow:Running: mcflirt -in /Users/franzliem/nipype_data/in_data/s01/rs_10TRs.nii.gz -out /Users/franzliem/nipype_data/06_iterables/wf/smoothing_iterables_wf/moco/rs_10TRs_mcf.nii.gz\n",
        "INFO:workflow:Executing node smoothing.aI.a2 in dir: /Users/franzliem/nipype_data/06_iterables/wf/smoothing_iterables_wf/_fwhm_12/smoothing\n",
        "INFO:workflow:Running: fslmaths /Users/franzliem/nipype_data/06_iterables/wf/smoothing_iterables_wf/moco/rs_10TRs_mcf.nii.gz -s 5.09593 /Users/franzliem/nipype_data/06_iterables/wf/smoothing_iterables_wf/_fwhm_12/smoothing/rs_10TRs_mcf_smooth.nii.gz\n",
        "INFO:workflow:Executing node ds.a2 in dir: /Users/franzliem/nipype_data/06_iterables/wf/smoothing_iterables_wf/_fwhm_12/ds\n",
        "INFO:workflow:Executing node smoothing.aI.a0 in dir: /Users/franzliem/nipype_data/06_iterables/wf/smoothing_iterables_wf/_fwhm_4/smoothing\n",
        "INFO:workflow:Running: fslmaths /Users/franzliem/nipype_data/06_iterables/wf/smoothing_iterables_wf/moco/rs_10TRs_mcf.nii.gz -s 1.69864 /Users/franzliem/nipype_data/06_iterables/wf/smoothing_iterables_wf/_fwhm_4/smoothing/rs_10TRs_mcf_smooth.nii.gz\n",
        "INFO:workflow:Executing node ds.a0 in dir: /Users/franzliem/nipype_data/06_iterables/wf/smoothing_iterables_wf/_fwhm_4/ds\n",
        "INFO:workflow:Executing node smoothing.aI.a1 in dir: /Users/franzliem/nipype_data/06_iterables/wf/smoothing_iterables_wf/_fwhm_8/smoothing\n",
        "INFO:workflow:Running: fslmaths /Users/franzliem/nipype_data/06_iterables/wf/smoothing_iterables_wf/moco/rs_10TRs_mcf.nii.gz -s 3.39729 /Users/franzliem/nipype_data/06_iterables/wf/smoothing_iterables_wf/_fwhm_8/smoothing/rs_10TRs_mcf_smooth.nii.gz\n",
        "INFO:workflow:Executing node ds.a1 in dir: /Users/franzliem/nipype_data/06_iterables/wf/smoothing_iterables_wf/_fwhm_8/ds\n"
       ]
      },
      {
       "metadata": {},
       "output_type": "pyout",
       "prompt_number": 8,
       "text": [
        "<networkx.classes.digraph.DiGraph at 0x10acee950>"
       ]
      }
     ],
     "prompt_number": 8
    },
    {
     "cell_type": "heading",
     "level": 1,
     "metadata": {
      "slideshow": {
       "slide_type": "slide"
      }
     },
     "source": [
      "Iterate over multiple subjects"
     ]
    },
    {
     "cell_type": "heading",
     "level": 2,
     "metadata": {
      "slideshow": {
       "slide_type": "subslide"
      }
     },
     "source": [
      "At which step in the pipeline should we inject the different subjects?"
     ]
    },
    {
     "cell_type": "code",
     "collapsed": false,
     "input": [
      "from nipype.pipeline.engine import Node, Workflow\n",
      "from nipype.interfaces import fsl\n",
      "from nipype.interfaces.io import DataSink, SelectFiles\n",
      "\n",
      "workflow_path = os.path.join(wd_path, 'wf')\n",
      "wf = Workflow(name='subjects_iterables_wf')\n",
      "wf.base_dir = workflow_path\n",
      "wf.config['execution']['crashdump_dir'] = os.path.join(workflow_path, 'crash')\n",
      "wf.config['execution']['remove_unnecessary_outputs'] = False"
     ],
     "language": "python",
     "metadata": {
      "slideshow": {
       "slide_type": "subslide"
      }
     },
     "outputs": [],
     "prompt_number": 9
    },
    {
     "cell_type": "markdown",
     "metadata": {
      "slideshow": {
       "slide_type": "subslide"
      }
     },
     "source": [
      "Note that we now have an iterable to the input 'subject_id'.\n",
      "\n",
      "This interable is a list of 2 strings ('s01', 's02').\n",
      "\n",
      "In the rs string, '{subject_id}' is replaced by 's01' and 's02', respectively."
     ]
    },
    {
     "cell_type": "code",
     "collapsed": true,
     "input": [
      "file_template = {'rs': 'in_data/{subject_id}/rs_10TRs.nii.gz'}\n",
      "selectfiles = Node(SelectFiles(file_template, base_directory=data_path),\n",
      "                   name=\"selectfiles\")\n",
      "selectfiles.iterables = ('subject_id', ['s01', 's02'])"
     ],
     "language": "python",
     "metadata": {
      "slideshow": {
       "slide_type": "-"
      }
     },
     "outputs": [],
     "prompt_number": 10
    },
    {
     "cell_type": "code",
     "collapsed": true,
     "input": [
      "moco = Node(fsl.MCFLIRT(), 'moco')\n",
      "\n",
      "wf.connect(selectfiles, 'rs', moco, 'in_file')"
     ],
     "language": "python",
     "metadata": {
      "slideshow": {
       "slide_type": "subslide"
      }
     },
     "outputs": [],
     "prompt_number": 11
    },
    {
     "cell_type": "code",
     "collapsed": true,
     "input": [
      "smoothing = Node(fsl.IsotropicSmooth(), 'smoothing')\n",
      "smoothing.inputs.fwhm = 6\n",
      "wf.connect(moco, 'out_file', smoothing, 'in_file')"
     ],
     "language": "python",
     "metadata": {},
     "outputs": [],
     "prompt_number": 12
    },
    {
     "cell_type": "code",
     "collapsed": true,
     "input": [
      "ds_dir = os.path.join(wd_path, 'output_subjects')\n",
      "ds = Node(DataSink(), name='ds')\n",
      "ds.inputs.base_directory = ds_dir\n",
      "ds.inputs.regexp_substitutions = [\n",
      "    ('_subject_id_', '')\n",
      "]"
     ],
     "language": "python",
     "metadata": {},
     "outputs": [],
     "prompt_number": 13
    },
    {
     "cell_type": "code",
     "collapsed": true,
     "input": [
      "wf.connect(smoothing, 'out_file', ds, 'smoothed_data')"
     ],
     "language": "python",
     "metadata": {},
     "outputs": [],
     "prompt_number": 14
    },
    {
     "cell_type": "code",
     "collapsed": false,
     "input": [
      "wf.run()"
     ],
     "language": "python",
     "metadata": {},
     "outputs": [
      {
       "output_type": "stream",
       "stream": "stderr",
       "text": [
        "INFO:workflow:['check', 'execution', 'logging']\n",
        "INFO:workflow:Running serially.\n",
        "INFO:workflow:Executing node selectfiles.aI.a0 in dir: /Users/franzliem/nipype_data/06_iterables/wf/subjects_iterables_wf/_subject_id_s01/selectfiles\n",
        "INFO:workflow:Executing node moco.a0 in dir: /Users/franzliem/nipype_data/06_iterables/wf/subjects_iterables_wf/_subject_id_s01/moco\n",
        "INFO:workflow:Running: mcflirt -in /Users/franzliem/nipype_data/in_data/s01/rs_10TRs.nii.gz -out /Users/franzliem/nipype_data/06_iterables/wf/subjects_iterables_wf/_subject_id_s01/moco/rs_10TRs_mcf.nii.gz\n",
        "INFO:workflow:Executing node smoothing.a0 in dir: /Users/franzliem/nipype_data/06_iterables/wf/subjects_iterables_wf/_subject_id_s01/smoothing\n",
        "INFO:workflow:Running: fslmaths /Users/franzliem/nipype_data/06_iterables/wf/subjects_iterables_wf/_subject_id_s01/moco/rs_10TRs_mcf.nii.gz -s 2.54797 /Users/franzliem/nipype_data/06_iterables/wf/subjects_iterables_wf/_subject_id_s01/smoothing/rs_10TRs_mcf_smooth.nii.gz\n",
        "INFO:workflow:Executing node ds.a0 in dir: /Users/franzliem/nipype_data/06_iterables/wf/subjects_iterables_wf/_subject_id_s01/ds\n",
        "INFO:interface:sub: /Users/franzliem/nipype_data/06_iterables/output_subjects/smoothed_data/_subject_id_s01/rs_10TRs_mcf_smooth.nii.gz -> /Users/franzliem/nipype_data/06_iterables/output_subjects/smoothed_data/s01/rs_10TRs_mcf_smooth.nii.gz\n",
        "INFO:workflow:Executing node selectfiles.aI.a1 in dir: /Users/franzliem/nipype_data/06_iterables/wf/subjects_iterables_wf/_subject_id_s02/selectfiles\n",
        "INFO:workflow:Executing node moco.a1 in dir: /Users/franzliem/nipype_data/06_iterables/wf/subjects_iterables_wf/_subject_id_s02/moco\n",
        "INFO:workflow:Running: mcflirt -in /Users/franzliem/nipype_data/in_data/s02/rs_10TRs.nii.gz -out /Users/franzliem/nipype_data/06_iterables/wf/subjects_iterables_wf/_subject_id_s02/moco/rs_10TRs_mcf.nii.gz\n",
        "INFO:workflow:Executing node smoothing.a1 in dir: /Users/franzliem/nipype_data/06_iterables/wf/subjects_iterables_wf/_subject_id_s02/smoothing\n",
        "INFO:workflow:Running: fslmaths /Users/franzliem/nipype_data/06_iterables/wf/subjects_iterables_wf/_subject_id_s02/moco/rs_10TRs_mcf.nii.gz -s 2.54797 /Users/franzliem/nipype_data/06_iterables/wf/subjects_iterables_wf/_subject_id_s02/smoothing/rs_10TRs_mcf_smooth.nii.gz\n",
        "INFO:workflow:Executing node ds.a1 in dir: /Users/franzliem/nipype_data/06_iterables/wf/subjects_iterables_wf/_subject_id_s02/ds\n",
        "INFO:interface:sub: /Users/franzliem/nipype_data/06_iterables/output_subjects/smoothed_data/_subject_id_s02/rs_10TRs_mcf_smooth.nii.gz -> /Users/franzliem/nipype_data/06_iterables/output_subjects/smoothed_data/s02/rs_10TRs_mcf_smooth.nii.gz\n"
       ]
      },
      {
       "metadata": {},
       "output_type": "pyout",
       "prompt_number": 15,
       "text": [
        "<networkx.classes.digraph.DiGraph at 0x1040220d0>"
       ]
      }
     ],
     "prompt_number": 15
    },
    {
     "cell_type": "heading",
     "level": 2,
     "metadata": {
      "collapsed": true,
      "slideshow": {
       "slide_type": "subslide"
      }
     },
     "source": [
      "Now run it on two cores"
     ]
    },
    {
     "cell_type": "heading",
     "level": 2,
     "metadata": {
      "slideshow": {
       "slide_type": "subslide"
      }
     },
     "source": [
      "Create your own pipeline!"
     ]
    },
    {
     "cell_type": "heading",
     "level": 1,
     "metadata": {
      "slideshow": {
       "slide_type": "subslide"
      }
     },
     "source": [
      "Debugging crash files"
     ]
    },
    {
     "cell_type": "markdown",
     "metadata": {},
     "source": [
      "If your workflow crashes, take a look at the crash file directory. There should be a crash file that can be viewed with\n",
      "the command line command:\n",
      "    \n",
      "__nipype_display_crash__"
     ]
    }
   ],
   "metadata": {}
  }
 ]
}