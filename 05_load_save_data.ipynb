{
 "cells": [
  {
   "cell_type": "markdown",
   "metadata": {
    "slideshow": {
     "slide_type": "slide"
    }
   },
   "source": [
    "# Load and save data"
   ]
  },
  {
   "cell_type": "markdown",
   "metadata": {},
   "source": [
    "Up until now, we always explicitly specified file names. If we want something more flexible (e.g., when working with multiple subjects, there is a nice interface for that:\n",
    "* [SelectFiles](http://nipy.org/nipype/users/select_files.html)\n",
    "\n",
    "\n",
    "---\n",
    "Up until now, we only lookt at data in the working directory. Usually, we are not interested in intermediate results. We can create an output directory that has only the data we want to store permatently:\n",
    "* [Data Sink](http://nipy.org/nipype/interfaces/generated/nipype.interfaces.io.html#datasink)"
   ]
  },
  {
   "cell_type": "code",
   "execution_count": 1,
   "metadata": {
    "collapsed": false,
    "slideshow": {
     "slide_type": "slide"
    }
   },
   "outputs": [
    {
     "name": "stdout",
     "output_type": "stream",
     "text": [
      "/Users/franzliem/nipype_data/05_load_save\n"
     ]
    }
   ],
   "source": [
    "import os\n",
    "\n",
    "home = os.path.expanduser('~')\n",
    "data_path = os.path.join(home, 'nipype_data')\n",
    "wd_path = os.path.join(data_path, '05_load_save')\n",
    "if not os.path.exists(wd_path):\n",
    "    os.mkdir(wd_path)\n",
    "os.chdir(wd_path)\n",
    "print(wd_path)"
   ]
  },
  {
   "cell_type": "markdown",
   "metadata": {
    "slideshow": {
     "slide_type": "slide"
    }
   },
   "source": [
    "# Workflow"
   ]
  },
  {
   "cell_type": "markdown",
   "metadata": {
    "slideshow": {
     "slide_type": "-"
    }
   },
   "source": [
    "Let's take the previous workflow "
   ]
  },
  {
   "cell_type": "code",
   "execution_count": 2,
   "metadata": {
    "collapsed": true,
    "slideshow": {
     "slide_type": "-"
    }
   },
   "outputs": [],
   "source": [
    "from nipype.pipeline.engine import Node, Workflow\n",
    "from nipype.interfaces import fsl\n",
    "\n",
    "workflow_path = os.path.join(wd_path, 'wf')\n",
    "wf = Workflow(name='load_save_wf')\n",
    "wf.base_dir = workflow_path\n",
    "wf.config['execution']['crashdump_dir'] = os.path.join(workflow_path, 'crash')\n",
    "wf.config['execution']['remove_unnecessary_outputs'] = False"
   ]
  },
  {
   "cell_type": "code",
   "execution_count": 3,
   "metadata": {
    "collapsed": true
   },
   "outputs": [],
   "source": [
    "moco = Node(fsl.MCFLIRT(), 'moco')\n",
    "\n",
    "smoothing = Node(fsl.IsotropicSmooth(), 'smoothing')\n",
    "smoothing.inputs.fwhm = 6\n",
    "\n",
    "wf.connect(moco, 'out_file', smoothing, 'in_file')"
   ]
  },
  {
   "cell_type": "markdown",
   "metadata": {},
   "source": [
    "Note that we only connected the two nodes, we did not define input data"
   ]
  },
  {
   "cell_type": "markdown",
   "metadata": {
    "slideshow": {
     "slide_type": "subslide"
    }
   },
   "source": [
    "# SelectFiles"
   ]
  },
  {
   "cell_type": "code",
   "execution_count": 4,
   "metadata": {
    "collapsed": true,
    "slideshow": {
     "slide_type": "-"
    }
   },
   "outputs": [],
   "source": [
    "from nipype.interfaces.io import DataSink, SelectFiles"
   ]
  },
  {
   "cell_type": "code",
   "execution_count": 5,
   "metadata": {
    "collapsed": true
   },
   "outputs": [],
   "source": [
    "file_template = {'rs': 'in_data/s01/rs_10TRs.nii.gz'}\n",
    "\n",
    "selectfiles = Node(SelectFiles(file_template, base_directory=data_path),\n",
    "                   name=\"selectfiles\")"
   ]
  },
  {
   "cell_type": "markdown",
   "metadata": {},
   "source": [
    "Now we connect selectfiles to moco:"
   ]
  },
  {
   "cell_type": "code",
   "execution_count": 6,
   "metadata": {
    "collapsed": true
   },
   "outputs": [],
   "source": [
    "wf.connect(selectfiles, 'rs', moco, 'in_file')"
   ]
  },
  {
   "cell_type": "markdown",
   "metadata": {
    "slideshow": {
     "slide_type": "subslide"
    }
   },
   "source": [
    "If we had more than one file we could define the template like this:"
   ]
  },
  {
   "cell_type": "code",
   "execution_count": 7,
   "metadata": {
    "collapsed": true
   },
   "outputs": [],
   "source": [
    "file_template = {'rs': 'in_data/s01/rs_10TRs.nii.gz',\n",
    "                't1w':'in_data/s01/t1w.nii.gz'}"
   ]
  },
  {
   "cell_type": "markdown",
   "metadata": {
    "slideshow": {
     "slide_type": "subslide"
    }
   },
   "source": [
    "# DataSink"
   ]
  },
  {
   "cell_type": "code",
   "execution_count": 8,
   "metadata": {
    "collapsed": true
   },
   "outputs": [],
   "source": [
    "ds_dir = os.path.join(wd_path, 'output')\n",
    "\n",
    "ds = Node(DataSink(), name='ds')\n",
    "ds.inputs.base_directory = ds_dir"
   ]
  },
  {
   "cell_type": "markdown",
   "metadata": {},
   "source": [
    "compare the style of the base_directory definintion of selectfiles. They work interchangeably"
   ]
  },
  {
   "cell_type": "markdown",
   "metadata": {
    "slideshow": {
     "slide_type": "subslide"
    }
   },
   "source": [
    "We can use substitutions to, e.g., replace 'subject_id_s01' with 's01' by defining:"
   ]
  },
  {
   "cell_type": "code",
   "execution_count": 9,
   "metadata": {
    "collapsed": true
   },
   "outputs": [],
   "source": [
    "ds.inputs.regexp_substitutions = [\n",
    "    ('subject_id_', '')\n",
    "]"
   ]
  },
  {
   "cell_type": "markdown",
   "metadata": {
    "slideshow": {
     "slide_type": "subslide"
    }
   },
   "source": [
    "Now we connect the output of smoothing with datasink"
   ]
  },
  {
   "cell_type": "code",
   "execution_count": 10,
   "metadata": {
    "collapsed": true
   },
   "outputs": [],
   "source": [
    "wf.connect(smoothing, 'out_file', ds, 'smoothed_data')"
   ]
  },
  {
   "cell_type": "markdown",
   "metadata": {},
   "source": [
    "and run the workflow"
   ]
  },
  {
   "cell_type": "code",
   "execution_count": 11,
   "metadata": {
    "collapsed": false
   },
   "outputs": [
    {
     "name": "stderr",
     "output_type": "stream",
     "text": [
      "/Users/franzliem/anaconda/lib/python2.7/site-packages/IPython/kernel/__init__.py:13: ShimWarning: The `IPython.kernel` package has been deprecated. You should import from ipykernel or jupyter_client instead.\n",
      "  \"You should import from ipykernel or jupyter_client instead.\", ShimWarning)\n",
      "/Users/franzliem/anaconda/lib/python2.7/site-packages/IPython/parallel.py:13: ShimWarning: The `IPython.parallel` package has been deprecated. You should import from ipyparallel instead.\n",
      "  \"You should import from ipyparallel instead.\", ShimWarning)\n",
      "INFO:workflow:['check', 'execution', 'logging']\n",
      "INFO:workflow:Running serially.\n",
      "INFO:workflow:Executing node selectfiles in dir: /Users/franzliem/nipype_data/05_load_save/wf/load_save_wf/selectfiles\n",
      "INFO:workflow:Executing node moco in dir: /Users/franzliem/nipype_data/05_load_save/wf/load_save_wf/moco\n",
      "INFO:workflow:Running: mcflirt -in /Users/franzliem/nipype_data/in_data/s01/rs_10TRs.nii.gz -out /Users/franzliem/nipype_data/05_load_save/wf/load_save_wf/moco/rs_10TRs_mcf.nii.gz\n",
      "INFO:workflow:Executing node smoothing in dir: /Users/franzliem/nipype_data/05_load_save/wf/load_save_wf/smoothing\n",
      "INFO:workflow:Running: fslmaths /Users/franzliem/nipype_data/05_load_save/wf/load_save_wf/moco/rs_10TRs_mcf.nii.gz -s 2.54797 /Users/franzliem/nipype_data/05_load_save/wf/load_save_wf/smoothing/rs_10TRs_mcf_smooth.nii.gz\n",
      "INFO:workflow:Executing node ds in dir: /Users/franzliem/nipype_data/05_load_save/wf/load_save_wf/ds\n"
     ]
    },
    {
     "data": {
      "text/plain": [
       "<networkx.classes.digraph.DiGraph at 0x10acbe990>"
      ]
     },
     "execution_count": 11,
     "metadata": {},
     "output_type": "execute_result"
    }
   ],
   "source": [
    "wf.run()"
   ]
  },
  {
   "cell_type": "code",
   "execution_count": 12,
   "metadata": {
    "collapsed": false,
    "slideshow": {
     "slide_type": "subslide"
    }
   },
   "outputs": [
    {
     "name": "stderr",
     "output_type": "stream",
     "text": [
      "INFO:workflow:Creating detailed dot file: /Users/franzliem/nipype_data/05_load_save/wf/load_save_wf/graph_detailed.dot\n",
      "INFO:workflow:Creating dot file: /Users/franzliem/nipype_data/05_load_save/wf/load_save_wf/graph.dot\n"
     ]
    },
    {
     "data": {
      "image/svg+xml": [
       "<svg height=\"260pt\" viewBox=\"0.00 0.00 148.62 260.00\" width=\"149pt\" xmlns=\"http://www.w3.org/2000/svg\" xmlns:xlink=\"http://www.w3.org/1999/xlink\">\n",
       "<g class=\"graph\" id=\"graph0\" transform=\"scale(1 1) rotate(0) translate(4 256)\">\n",
       "<title>G</title>\n",
       "<polygon fill=\"white\" points=\"-4,4 -4,-256 144.624,-256 144.624,4 -4,4\" stroke=\"none\"/>\n",
       "<!-- moco (fsl) -->\n",
       "<g class=\"node\" id=\"node1\"><title>moco (fsl)</title>\n",
       "<ellipse cx=\"70.3118\" cy=\"-162\" fill=\"none\" rx=\"50.9804\" ry=\"18\" stroke=\"black\"/>\n",
       "<text font-family=\"Times,serif\" font-size=\"14.00\" text-anchor=\"middle\" x=\"70.3118\" y=\"-157.8\">moco (fsl)</text>\n",
       "</g>\n",
       "<!-- smoothing (fsl) -->\n",
       "<g class=\"node\" id=\"node2\"><title>smoothing (fsl)</title>\n",
       "<ellipse cx=\"70.3118\" cy=\"-90\" fill=\"none\" rx=\"70.1241\" ry=\"18\" stroke=\"black\"/>\n",
       "<text font-family=\"Times,serif\" font-size=\"14.00\" text-anchor=\"middle\" x=\"70.3118\" y=\"-85.8\">smoothing (fsl)</text>\n",
       "</g>\n",
       "<!-- moco (fsl)&#45;&gt;smoothing (fsl) -->\n",
       "<g class=\"edge\" id=\"edge1\"><title>moco (fsl)-&gt;smoothing (fsl)</title>\n",
       "<path d=\"M70.3118,-143.697C70.3118,-135.983 70.3118,-126.712 70.3118,-118.112\" fill=\"none\" stroke=\"black\"/>\n",
       "<polygon fill=\"black\" points=\"73.8119,-118.104 70.3118,-108.104 66.8119,-118.104 73.8119,-118.104\" stroke=\"black\"/>\n",
       "</g>\n",
       "<!-- ds (io) -->\n",
       "<g class=\"node\" id=\"node4\"><title>ds (io)</title>\n",
       "<ellipse cx=\"70.3118\" cy=\"-18\" fill=\"none\" rx=\"35.9531\" ry=\"18\" stroke=\"black\"/>\n",
       "<text font-family=\"Times,serif\" font-size=\"14.00\" text-anchor=\"middle\" x=\"70.3118\" y=\"-13.8\">ds (io)</text>\n",
       "</g>\n",
       "<!-- smoothing (fsl)&#45;&gt;ds (io) -->\n",
       "<g class=\"edge\" id=\"edge2\"><title>smoothing (fsl)-&gt;ds (io)</title>\n",
       "<path d=\"M70.3118,-71.6966C70.3118,-63.9827 70.3118,-54.7125 70.3118,-46.1124\" fill=\"none\" stroke=\"black\"/>\n",
       "<polygon fill=\"black\" points=\"73.8119,-46.1043 70.3118,-36.1043 66.8119,-46.1044 73.8119,-46.1043\" stroke=\"black\"/>\n",
       "</g>\n",
       "<!-- selectfiles (io) -->\n",
       "<g class=\"node\" id=\"node3\"><title>selectfiles (io)</title>\n",
       "<ellipse cx=\"70.3118\" cy=\"-234\" fill=\"none\" rx=\"65.9999\" ry=\"18\" stroke=\"black\"/>\n",
       "<text font-family=\"Times,serif\" font-size=\"14.00\" text-anchor=\"middle\" x=\"70.3118\" y=\"-229.8\">selectfiles (io)</text>\n",
       "</g>\n",
       "<!-- selectfiles (io)&#45;&gt;moco (fsl) -->\n",
       "<g class=\"edge\" id=\"edge3\"><title>selectfiles (io)-&gt;moco (fsl)</title>\n",
       "<path d=\"M70.3118,-215.697C70.3118,-207.983 70.3118,-198.712 70.3118,-190.112\" fill=\"none\" stroke=\"black\"/>\n",
       "<polygon fill=\"black\" points=\"73.8119,-190.104 70.3118,-180.104 66.8119,-190.104 73.8119,-190.104\" stroke=\"black\"/>\n",
       "</g>\n",
       "</g>\n",
       "</svg>"
      ],
      "text/plain": [
       "<IPython.core.display.SVG object>"
      ]
     },
     "metadata": {},
     "output_type": "display_data"
    }
   ],
   "source": [
    "wf.write_graph(dotfilename='graph', graph2use='orig', format='svg')\n",
    "from IPython.display import SVG, display\n",
    "display(SVG(filename='wf/load_save_wf/graph.dot.svg'))"
   ]
  },
  {
   "cell_type": "code",
   "execution_count": 13,
   "metadata": {
    "collapsed": false,
    "slideshow": {
     "slide_type": "subslide"
    }
   },
   "outputs": [
    {
     "data": {
      "image/svg+xml": [
       "<svg height=\"418pt\" viewBox=\"0.00 0.00 677.74 417.60\" width=\"678pt\" xmlns=\"http://www.w3.org/2000/svg\" xmlns:xlink=\"http://www.w3.org/1999/xlink\">\n",
       "<g class=\"graph\" id=\"graph0\" transform=\"scale(1 1) rotate(0) translate(4 413.6)\">\n",
       "<title>structs</title>\n",
       "<polygon fill=\"white\" points=\"-4,4 -4,-413.6 673.737,-413.6 673.737,4 -4,4\" stroke=\"none\"/>\n",
       "<!-- load_save_wfselectfiles -->\n",
       "<g class=\"node\" id=\"node1\"><title>load_save_wfselectfiles</title>\n",
       "<polygon fill=\"none\" points=\"0,-334.7 0,-409.1 147.504,-409.1 147.504,-334.7 0,-334.7\" stroke=\"black\"/>\n",
       "<text font-family=\"Times,serif\" font-size=\"14.00\" text-anchor=\"middle\" x=\"15.3836\" y=\"-368\">IN</text>\n",
       "<polyline fill=\"none\" points=\"30.7672,-334.7 30.7672,-409.1 \" stroke=\"black\"/>\n",
       "<text font-family=\"Times,serif\" font-size=\"14.00\" text-anchor=\"middle\" x=\"66.7525\" y=\"-392.5\">selectfiles</text>\n",
       "<polyline fill=\"none\" points=\"30.7672,-384.3 102.738,-384.3 \" stroke=\"black\"/>\n",
       "<text font-family=\"Times,serif\" font-size=\"14.00\" text-anchor=\"middle\" x=\"66.7525\" y=\"-367.7\">io</text>\n",
       "<polyline fill=\"none\" points=\"30.7672,-359.5 102.738,-359.5 \" stroke=\"black\"/>\n",
       "<text font-family=\"Times,serif\" font-size=\"14.00\" text-anchor=\"middle\" x=\"66.7525\" y=\"-342.9\"> </text>\n",
       "<polyline fill=\"none\" points=\"102.738,-334.7 102.738,-409.1 \" stroke=\"black\"/>\n",
       "<text font-family=\"Times,serif\" font-size=\"14.00\" text-anchor=\"middle\" x=\"125.121\" y=\"-386.5\">OUT</text>\n",
       "<polyline fill=\"none\" points=\"102.738,-372.3 147.504,-372.3 \" stroke=\"black\"/>\n",
       "<text font-family=\"Times,serif\" font-size=\"14.00\" text-anchor=\"middle\" x=\"125.121\" y=\"-349.7\">rs</text>\n",
       "</g>\n",
       "<!-- load_save_wfmoco -->\n",
       "<g class=\"node\" id=\"node2\"><title>load_save_wfmoco</title>\n",
       "<polygon fill=\"none\" points=\"148.152,-223.3 148.152,-297.7 307.351,-297.7 307.351,-223.3 148.152,-223.3\" stroke=\"black\"/>\n",
       "<text font-family=\"Times,serif\" font-size=\"14.00\" text-anchor=\"middle\" x=\"174.426\" y=\"-275.1\">IN</text>\n",
       "<polyline fill=\"none\" points=\"148.152,-260.9 200.699,-260.9 \" stroke=\"black\"/>\n",
       "<text font-family=\"Times,serif\" font-size=\"14.00\" text-anchor=\"middle\" x=\"174.426\" y=\"-238.3\">in_file</text>\n",
       "<polyline fill=\"none\" points=\"200.699,-223.3 200.699,-297.7 \" stroke=\"black\"/>\n",
       "<text font-family=\"Times,serif\" font-size=\"14.00\" text-anchor=\"middle\" x=\"224.252\" y=\"-281.1\">moco</text>\n",
       "<polyline fill=\"none\" points=\"200.699,-272.9 247.804,-272.9 \" stroke=\"black\"/>\n",
       "<text font-family=\"Times,serif\" font-size=\"14.00\" text-anchor=\"middle\" x=\"224.252\" y=\"-256.3\">fsl</text>\n",
       "<polyline fill=\"none\" points=\"200.699,-248.1 247.804,-248.1 \" stroke=\"black\"/>\n",
       "<text font-family=\"Times,serif\" font-size=\"14.00\" text-anchor=\"middle\" x=\"224.252\" y=\"-231.5\"> </text>\n",
       "<polyline fill=\"none\" points=\"247.804,-223.3 247.804,-297.7 \" stroke=\"black\"/>\n",
       "<text font-family=\"Times,serif\" font-size=\"14.00\" text-anchor=\"middle\" x=\"277.578\" y=\"-275.1\">OUT</text>\n",
       "<polyline fill=\"none\" points=\"247.804,-260.9 307.351,-260.9 \" stroke=\"black\"/>\n",
       "<text font-family=\"Times,serif\" font-size=\"14.00\" text-anchor=\"middle\" x=\"277.578\" y=\"-238.3\">out_file</text>\n",
       "</g>\n",
       "<!-- load_save_wfselectfiles&#45;&gt;load_save_wfmoco -->\n",
       "<g class=\"edge\" id=\"edge2\"><title>load_save_wfselectfiles:outrs:e-&gt;load_save_wfmoco:ininfile:w</title>\n",
       "<path d=\"M148.752,-353.9C193.822,-353.9 114.173,-261.618 136.832,-245.036\" fill=\"none\" stroke=\"black\"/>\n",
       "<polygon fill=\"black\" points=\"137.93,-248.368 146.752,-242.5 136.196,-241.586 137.93,-248.368\" stroke=\"black\"/>\n",
       "</g>\n",
       "<!-- load_save_wfsmoothing -->\n",
       "<g class=\"node\" id=\"node3\"><title>load_save_wfsmoothing</title>\n",
       "<polygon fill=\"none\" points=\"308.147,-111.9 308.147,-186.3 495.357,-186.3 495.357,-111.9 308.147,-111.9\" stroke=\"black\"/>\n",
       "<text font-family=\"Times,serif\" font-size=\"14.00\" text-anchor=\"middle\" x=\"334.42\" y=\"-163.7\">IN</text>\n",
       "<polyline fill=\"none\" points=\"308.147,-149.5 360.694,-149.5 \" stroke=\"black\"/>\n",
       "<text font-family=\"Times,serif\" font-size=\"14.00\" text-anchor=\"middle\" x=\"334.42\" y=\"-126.9\">in_file</text>\n",
       "<polyline fill=\"none\" points=\"360.694,-111.9 360.694,-186.3 \" stroke=\"black\"/>\n",
       "<text font-family=\"Times,serif\" font-size=\"14.00\" text-anchor=\"middle\" x=\"398.252\" y=\"-169.7\">smoothing</text>\n",
       "<polyline fill=\"none\" points=\"360.694,-161.5 435.81,-161.5 \" stroke=\"black\"/>\n",
       "<text font-family=\"Times,serif\" font-size=\"14.00\" text-anchor=\"middle\" x=\"398.252\" y=\"-144.9\">fsl</text>\n",
       "<polyline fill=\"none\" points=\"360.694,-136.7 435.81,-136.7 \" stroke=\"black\"/>\n",
       "<text font-family=\"Times,serif\" font-size=\"14.00\" text-anchor=\"middle\" x=\"398.252\" y=\"-120.1\"> </text>\n",
       "<polyline fill=\"none\" points=\"435.81,-111.9 435.81,-186.3 \" stroke=\"black\"/>\n",
       "<text font-family=\"Times,serif\" font-size=\"14.00\" text-anchor=\"middle\" x=\"465.584\" y=\"-163.7\">OUT</text>\n",
       "<polyline fill=\"none\" points=\"435.81,-149.5 495.357,-149.5 \" stroke=\"black\"/>\n",
       "<text font-family=\"Times,serif\" font-size=\"14.00\" text-anchor=\"middle\" x=\"465.584\" y=\"-126.9\">out_file</text>\n",
       "</g>\n",
       "<!-- load_save_wfmoco&#45;&gt;load_save_wfsmoothing -->\n",
       "<g class=\"edge\" id=\"edge1\"><title>load_save_wfmoco:outoutfile:e-&gt;load_save_wfsmoothing:ininfile:w</title>\n",
       "<path d=\"M308.752,-242.5C353.822,-242.5 274.173,-150.218 296.832,-133.636\" fill=\"none\" stroke=\"black\"/>\n",
       "<polygon fill=\"black\" points=\"297.93,-136.968 306.752,-131.1 296.196,-130.186 297.93,-136.968\" stroke=\"black\"/>\n",
       "</g>\n",
       "<!-- load_save_wfds -->\n",
       "<g class=\"node\" id=\"node4\"><title>load_save_wfds</title>\n",
       "<polygon fill=\"none\" points=\"495.767,-0.5 495.767,-74.9 669.737,-74.9 669.737,-0.5 495.767,-0.5\" stroke=\"black\"/>\n",
       "<text font-family=\"Times,serif\" font-size=\"14.00\" text-anchor=\"middle\" x=\"546.147\" y=\"-52.3\">IN</text>\n",
       "<polyline fill=\"none\" points=\"495.767,-38.1 596.527,-38.1 \" stroke=\"black\"/>\n",
       "<text font-family=\"Times,serif\" font-size=\"14.00\" text-anchor=\"middle\" x=\"546.147\" y=\"-15.5\">smoothed_data</text>\n",
       "<polyline fill=\"none\" points=\"596.527,-0.5 596.527,-74.9 \" stroke=\"black\"/>\n",
       "<text font-family=\"Times,serif\" font-size=\"14.00\" text-anchor=\"middle\" x=\"610.749\" y=\"-58.3\">ds</text>\n",
       "<polyline fill=\"none\" points=\"596.527,-50.1 624.971,-50.1 \" stroke=\"black\"/>\n",
       "<text font-family=\"Times,serif\" font-size=\"14.00\" text-anchor=\"middle\" x=\"610.749\" y=\"-33.5\">io</text>\n",
       "<polyline fill=\"none\" points=\"596.527,-25.3 624.971,-25.3 \" stroke=\"black\"/>\n",
       "<text font-family=\"Times,serif\" font-size=\"14.00\" text-anchor=\"middle\" x=\"610.749\" y=\"-8.7\"> </text>\n",
       "<polyline fill=\"none\" points=\"624.971,-0.5 624.971,-74.9 \" stroke=\"black\"/>\n",
       "<text font-family=\"Times,serif\" font-size=\"14.00\" text-anchor=\"middle\" x=\"647.354\" y=\"-33.8\">OUT</text>\n",
       "</g>\n",
       "<!-- load_save_wfsmoothing&#45;&gt;load_save_wfds -->\n",
       "<g class=\"edge\" id=\"edge3\"><title>load_save_wfsmoothing:outoutfile:e-&gt;load_save_wfds:insmootheddata:w</title>\n",
       "<path d=\"M496.752,-131.1C541.822,-131.1 462.173,-38.818 484.832,-22.2361\" fill=\"none\" stroke=\"black\"/>\n",
       "<polygon fill=\"black\" points=\"485.93,-25.568 494.752,-19.7 484.196,-18.7861 485.93,-25.568\" stroke=\"black\"/>\n",
       "</g>\n",
       "</g>\n",
       "</svg>"
      ],
      "text/plain": [
       "<IPython.core.display.SVG object>"
      ]
     },
     "metadata": {},
     "output_type": "display_data"
    }
   ],
   "source": [
    "display(SVG(filename='wf/load_save_wf/graph_detailed.dot.svg'))"
   ]
  },
  {
   "cell_type": "markdown",
   "metadata": {
    "slideshow": {
     "slide_type": "subslide"
    }
   },
   "source": [
    "We can create __subdirectories__ like this:"
   ]
  },
  {
   "cell_type": "code",
   "execution_count": 14,
   "metadata": {
    "collapsed": true
   },
   "outputs": [],
   "source": [
    "wf.connect(smoothing, 'out_file', ds, 'smoothed_data.functional')"
   ]
  }
 ],
 "metadata": {
  "celltoolbar": "Slideshow",
  "kernelspec": {
   "display_name": "Python 2",
   "language": "python",
   "name": "python2"
  },
  "language_info": {
   "codemirror_mode": {
    "name": "ipython",
    "version": 2
   },
   "file_extension": ".py",
   "mimetype": "text/x-python",
   "name": "python",
   "nbconvert_exporter": "python",
   "pygments_lexer": "ipython2",
   "version": "2.7.11"
  }
 },
 "nbformat": 4,
 "nbformat_minor": 0
}
