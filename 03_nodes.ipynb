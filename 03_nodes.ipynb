{
 "cells": [
  {
   "cell_type": "markdown",
   "metadata": {
    "slideshow": {
     "slide_type": "slide"
    }
   },
   "source": [
    "# Nodes"
   ]
  },
  {
   "cell_type": "markdown",
   "metadata": {},
   "source": [
    "From http://nipy.org/nipype/api/generated/nipype.pipeline.engine.html#node\n",
    "\n",
    "Nodes wrap interface objects for use in pipeline\n",
    "\n",
    ">A Node creates a sandbox-like directory for executing the underlying interface. It will copy or link inputs into this directory to ensure that input data are not overwritten. A hash of the input state is used to determine if the Node inputs have changed and whether the node needs to be re-executed."
   ]
  },
  {
   "cell_type": "code",
   "execution_count": 1,
   "metadata": {
    "collapsed": false,
    "slideshow": {
     "slide_type": "slide"
    }
   },
   "outputs": [
    {
     "name": "stdout",
     "output_type": "stream",
     "text": [
      "/Users/franzliem/nipype_data/03_nodes\n"
     ]
    }
   ],
   "source": [
    "import os\n",
    "\n",
    "home = os.path.expanduser('~')\n",
    "data_path = os.path.join(home, 'nipype_data')\n",
    "wd_path = os.path.join(data_path, '03_nodes')\n",
    "if not os.path.exists(wd_path):\n",
    "    os.mkdir(wd_path)\n",
    "os.chdir(wd_path)\n",
    "print(wd_path)"
   ]
  },
  {
   "cell_type": "code",
   "execution_count": 2,
   "metadata": {
    "collapsed": false
   },
   "outputs": [
    {
     "name": "stdout",
     "output_type": "stream",
     "text": [
      "/Users/franzliem/nipype_data/in_data/s01/rs_10TRs.nii.gz\n"
     ]
    }
   ],
   "source": [
    "rs_data = os.path.join(data_path, 'in_data/s01', 'rs_10TRs.nii.gz')\n",
    "print(rs_data)"
   ]
  },
  {
   "cell_type": "code",
   "execution_count": 3,
   "metadata": {
    "collapsed": false,
    "slideshow": {
     "slide_type": "slide"
    }
   },
   "outputs": [
    {
     "name": "stderr",
     "output_type": "stream",
     "text": [
      "INFO:workflow:Executing node moco in dir: /Users/franzliem/nipype_data/03_nodes/moco\n",
      "INFO:workflow:Running: mcflirt -in /Users/franzliem/nipype_data/in_data/s01/rs_10TRs.nii.gz -out /Users/franzliem/nipype_data/03_nodes/moco/rs_10TRs_mcf.nii.gz\n"
     ]
    },
    {
     "data": {
      "text/plain": [
       "<nipype.interfaces.base.InterfaceResult at 0x10062a890>"
      ]
     },
     "execution_count": 3,
     "metadata": {},
     "output_type": "execute_result"
    }
   ],
   "source": [
    "from nipype.pipeline.engine import Node\n",
    "from nipype.interfaces import fsl\n",
    "\n",
    "\n",
    "moco = Node(fsl.MCFLIRT(), 'moco')\n",
    "moco.inputs.in_file = rs_data\n",
    "moco.base_dir = wd_path\n",
    "moco.run()"
   ]
  },
  {
   "cell_type": "markdown",
   "metadata": {},
   "source": [
    "Note that        \n",
    "   \n",
    "```moco = Node(fsl.MCFLIRT(), 'moco')```\n",
    "\n",
    "is equivalent to \n",
    "\n",
    "```moco = Node(interface=fsl.MCFLIRT(), name='moco')```\n",
    "\n"
   ]
  },
  {
   "cell_type": "code",
   "execution_count": 4,
   "metadata": {
    "collapsed": false,
    "slideshow": {
     "slide_type": "slide"
    }
   },
   "outputs": [
    {
     "name": "stdout",
     "output_type": "stream",
     "text": [
      "_0xa75c1debcdba3ca0860d9c4452b6b10c.json\r\n",
      "_inputs.pklz\r\n",
      "_node.pklz\r\n",
      "\u001b[1m\u001b[34m_report\u001b[m\u001b[m/\r\n",
      "command.txt\r\n",
      "result_moco.pklz\r\n",
      "rs_10TRs_mcf.nii.gz\r\n"
     ]
    }
   ],
   "source": [
    "ls moco"
   ]
  },
  {
   "cell_type": "markdown",
   "metadata": {},
   "source": [
    "Inspect the files in moco. Take a look at command.txt and _report/report.rts"
   ]
  },
  {
   "cell_type": "markdown",
   "metadata": {
    "collapsed": true,
    "slideshow": {
     "slide_type": "subslide"
    }
   },
   "source": [
    "## Note that if you re-run a node, it only will re-calculate the results, if the input has changed! "
   ]
  }
 ],
 "metadata": {
  "celltoolbar": "Slideshow",
  "kernelspec": {
   "display_name": "Python 2",
   "language": "python",
   "name": "python2"
  },
  "language_info": {
   "codemirror_mode": {
    "name": "ipython",
    "version": 2
   },
   "file_extension": ".py",
   "mimetype": "text/x-python",
   "name": "python",
   "nbconvert_exporter": "python",
   "pygments_lexer": "ipython2",
   "version": "2.7.11"
  }
 },
 "nbformat": 4,
 "nbformat_minor": 0
}
